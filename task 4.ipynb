{
 "cells": [
  {
   "cell_type": "code",
   "execution_count": 4,
   "metadata": {},
   "outputs": [],
   "source": [
    "import cv2\n",
    "import numpy as np\n",
    "\n",
    "img = cv2.imread(\"2.jpg\")\n",
    "img = cv2.resize(img, (0, 0), None, .25, .25)\n",
    "\n",
    "linesKernal = np.array(([[-1, 0, 1], [-1, 0, 1], [-1, 0, 1]]), np.float32)/9\n",
    "gaussianBlurKernel = np.array(([[1, 2, 1], [2, 4, 2], [1, 2, 1]]), np.float32)/9\n",
    "\n",
    "\n",
    "lines = cv2.filter2D(src=img, kernel=linesKernal, ddepth=-1)\n",
    "gaussianBlur = cv2.filter2D(src=img, kernel=gaussianBlurKernel, ddepth=-1)\n",
    "\n",
    "horizontalStack = np.concatenate((img, lines ,gaussianBlur), axis=1)\n",
    "\n",
    "cv2.imwrite(\"Output.jpg\", horizontalStack)\n",
    "\n",
    "cv2.imshow(\"2D Convolution Example\", horizontalStack)\n",
    "\n",
    "cv2.waitKey(0)\n",
    "cv2.destroyAllWindows()"
   ]
  },
  {
   "cell_type": "code",
   "execution_count": null,
   "metadata": {},
   "outputs": [],
   "source": []
  }
 ],
 "metadata": {
  "kernelspec": {
   "display_name": "Python 3",
   "language": "python",
   "name": "python3"
  },
  "language_info": {
   "codemirror_mode": {
    "name": "ipython",
    "version": 3
   },
   "file_extension": ".py",
   "mimetype": "text/x-python",
   "name": "python",
   "nbconvert_exporter": "python",
   "pygments_lexer": "ipython3",
   "version": "3.8.3"
  }
 },
 "nbformat": 4,
 "nbformat_minor": 4
}
